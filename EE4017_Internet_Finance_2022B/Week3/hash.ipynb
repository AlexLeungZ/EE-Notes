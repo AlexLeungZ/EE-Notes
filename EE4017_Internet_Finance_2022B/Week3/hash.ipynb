{
 "cells": [
  {
   "cell_type": "code",
   "execution_count": 1,
   "metadata": {},
   "outputs": [],
   "source": [
    "import hashlib"
   ]
  },
  {
   "cell_type": "code",
   "execution_count": 2,
   "metadata": {},
   "outputs": [],
   "source": [
    "def sha256(message): \n",
    "    encoded_message = message.encode('ascii') \n",
    "    hashed_output = hashlib.sha1(encoded_message) \n",
    "    return hashed_output.hexdigest() "
   ]
  },
  {
   "cell_type": "code",
   "execution_count": 3,
   "metadata": {},
   "outputs": [
    {
     "data": {
      "text/plain": [
       "'2ef7bde608ce5404e97d5f042f95f89f1c232871'"
      ]
     },
     "execution_count": 3,
     "metadata": {},
     "output_type": "execute_result"
    }
   ],
   "source": [
    "sha256(\"Suwandi Ryan Loe 55724681\")"
   ]
  }
 ],
 "metadata": {
  "interpreter": {
   "hash": "f9cfcd26c2d1547a57ed252257be69972342ea70c410eba2d321c7d2c11ce509"
  },
  "kernelspec": {
   "display_name": "Python 3.9.6 64-bit ('analyst': conda)",
   "language": "python",
   "name": "python3"
  },
  "language_info": {
   "codemirror_mode": {
    "name": "ipython",
    "version": 3
   },
   "file_extension": ".py",
   "mimetype": "text/x-python",
   "name": "python",
   "nbconvert_exporter": "python",
   "pygments_lexer": "ipython3",
   "version": "3.10.1"
  },
  "orig_nbformat": 4
 },
 "nbformat": 4,
 "nbformat_minor": 2
}
