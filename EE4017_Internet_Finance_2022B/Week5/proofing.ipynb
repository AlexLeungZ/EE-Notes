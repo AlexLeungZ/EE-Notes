{
 "cells": [
  {
   "cell_type": "code",
   "execution_count": null,
   "metadata": {},
   "outputs": [],
   "source": [
    "import hashlib\n",
    "import numpy_financial as npf"
   ]
  },
  {
   "cell_type": "code",
   "execution_count": null,
   "metadata": {},
   "outputs": [],
   "source": [
    "def sha256(message):\n",
    "    encoded_message = message.encode('ascii')\n",
    "    hashed_output = hashlib.sha256(encoded_message)\n",
    "    return hashed_output.hexdigest()"
   ]
  },
  {
   "cell_type": "code",
   "execution_count": null,
   "metadata": {},
   "outputs": [],
   "source": [
    "def proof_of_work(message,difficulty=2):\n",
    "    nonce = 0\n",
    "    computed_hash = sha256(message + str(nonce))\n",
    "    while not computed_hash.startswith('55724' * difficulty):\n",
    "        nonce += 1\n",
    "        computed_hash = sha256(message + str(nonce))\n",
    "    \n",
    "    return computed_hash, nonce"
   ]
  },
  {
   "cell_type": "code",
   "execution_count": null,
   "metadata": {},
   "outputs": [],
   "source": [
    "print(\"55724681 Suwandi Ryan Loe\")"
   ]
  },
  {
   "cell_type": "code",
   "execution_count": 6,
   "metadata": {},
   "outputs": [
    {
     "name": "stdout",
     "output_type": "stream",
     "text": [
      "('557244077461c06539e71324f5db56349a6c24db11ebfe3e2b5a177ba70b9838', 3044982)\n"
     ]
    }
   ],
   "source": [
    "msg = \"EE4017 Internet Finance\"\n",
    "pof = proof_of_work(msg,1)\n",
    "print(pof)"
   ]
  }
 ],
 "metadata": {
  "interpreter": {
   "hash": "2be5faf79681da6f2a61fdfdd5405d65d042280f7fba6178067603e3a2925119"
  },
  "kernelspec": {
   "display_name": "Python 3.10.1 64-bit",
   "language": "python",
   "name": "python3"
  },
  "language_info": {
   "codemirror_mode": {
    "name": "ipython",
    "version": 3
   },
   "file_extension": ".py",
   "mimetype": "text/x-python",
   "name": "python",
   "nbconvert_exporter": "python",
   "pygments_lexer": "ipython3",
   "version": "3.10.4"
  },
  "orig_nbformat": 4
 },
 "nbformat": 4,
 "nbformat_minor": 2
}
