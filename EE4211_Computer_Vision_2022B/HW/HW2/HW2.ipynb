{
 "cells": [
  {
   "cell_type": "code",
   "execution_count": 19,
   "metadata": {},
   "outputs": [],
   "source": [
    "import cv2 as cv\n",
    "import matplotlib as plt"
   ]
  },
  {
   "cell_type": "code",
   "execution_count": 20,
   "metadata": {},
   "outputs": [
    {
     "data": {
      "text/plain": [
       "True"
      ]
     },
     "execution_count": 20,
     "metadata": {},
     "output_type": "execute_result"
    }
   ],
   "source": [
    "img = cv.imread('1.tif')\n",
    "sobelimg = cv.Sobel(img, cv.CV_64F, 1, 0, ksize=1)\n",
    "cv.imwrite(\"sobel.jpg\",sobelimg)"
   ]
  }
 ],
 "metadata": {
  "interpreter": {
   "hash": "78a2b77ff9e37fc31a6da28302bc18b697d7624bf8160a3e4f6d4783a5f5ef9e"
  },
  "kernelspec": {
   "display_name": "Python 3.9.7 ('EE4211')",
   "language": "python",
   "name": "python3"
  },
  "language_info": {
   "codemirror_mode": {
    "name": "ipython",
    "version": 3
   },
   "file_extension": ".py",
   "mimetype": "text/x-python",
   "name": "python",
   "nbconvert_exporter": "python",
   "pygments_lexer": "ipython3",
   "version": "3.9.7"
  },
  "orig_nbformat": 4
 },
 "nbformat": 4,
 "nbformat_minor": 2
}
