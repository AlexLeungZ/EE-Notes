{
 "cells": [
  {
   "cell_type": "code",
   "execution_count": 2,
   "metadata": {},
   "outputs": [],
   "source": [
    "import numpy_financial as npf\n",
    "import math"
   ]
  },
  {
   "cell_type": "code",
   "execution_count": null,
   "metadata": {},
   "outputs": [],
   "source": [
    "pv = 1000\n",
    "fv = 1200\n",
    "np = 10\n",
    "I = fv/1000"
   ]
  },
  {
   "cell_type": "code",
   "execution_count": 21,
   "metadata": {},
   "outputs": [
    {
     "name": "stdout",
     "output_type": "stream",
     "text": [
      "YTM:  0.02 %\n"
     ]
    }
   ],
   "source": [
    "YTM = 20/1000\n",
    "print(\"YTM: \", YTM,\"%\")"
   ]
  },
  {
   "cell_type": "code",
   "execution_count": 18,
   "metadata": {},
   "outputs": [
    {
     "name": "stdout",
     "output_type": "stream",
     "text": [
      "Future Value:  1070.0\n",
      "YTM:  7.000000000000001 %\n"
     ]
    }
   ],
   "source": [
    "# Face value \n",
    "pv = 1000 \n",
    "#only multiply by 2 if paid twice a year\n",
    "np = 1\n",
    "# total sum received at maturity of the bond \n",
    "# since coupon is 2.5% pa, convert it to 1.25% per half year\n",
    "# if the question says it is paid twice every year\n",
    "I = 0.05\n",
    "fsum = abs(npf.fv(I, np, 20, pv))\n",
    "# Yield-to-maturity \n",
    "YTM = (fsum - pv)/pv*100\n",
    "print(\"Future Value: \",fsum)\n",
    "print(\"YTM: \", YTM,\"%\")"
   ]
  },
  {
   "cell_type": "code",
   "execution_count": 17,
   "metadata": {},
   "outputs": [
    {
     "name": "stdout",
     "output_type": "stream",
     "text": [
      "PV =  613.9132535407591\n",
      "YTM =  62.88946267774421\n"
     ]
    }
   ],
   "source": [
    "#only multiply by 2 if paid twice a year\n",
    "fv = 1000\n",
    "#in the question it's given 5 years but because of twice per year payment, it becomes 10\n",
    "np = 5 * 2\n",
    "# since interest is 10% and is paid twice a year, it becomes 5%\n",
    "I = 0.10 / 2\n",
    "pv = abs(npf.pv(I, np, 0, fv))\n",
    "print (\"PV = \", pv) \n",
    "YTM = (fv - pv)/pv*100\n",
    "print (\"YTM = \", YTM)"
   ]
  },
  {
   "cell_type": "code",
   "execution_count": 6,
   "metadata": {},
   "outputs": [
    {
     "name": "stdout",
     "output_type": "stream",
     "text": [
      "0.10999890001099989\n"
     ]
    }
   ],
   "source": [
    "#calculating bond yield value is different to simple loan calculations\n",
    "face_value = 1000\n",
    "current_price = 909.1\n",
    "coupon_rate = .1\n",
    "coupon_price = face_value*coupon_rate\n",
    "interest_rate = (coupon_price)/current_price\n",
    "print(interest_rate)"
   ]
  },
  {
   "cell_type": "code",
   "execution_count": null,
   "metadata": {},
   "outputs": [],
   "source": [
    "#stock price\n",
    "nextyearprice = 120\n",
    "expecteddividend = 3\n",
    "discount_rate = 0.09\n",
    "\n",
    "originalprice = (expecteddividend + nextyearprice) / (1 + discount_rate)\n",
    "print(originalprice)"
   ]
  },
  {
   "cell_type": "code",
   "execution_count": 39,
   "metadata": {},
   "outputs": [
    {
     "name": "stdout",
     "output_type": "stream",
     "text": [
      "161.85714285714283\n"
     ]
    }
   ],
   "source": [
    "#stock price\n",
    "security_Value = 11\n",
    "growth_rate = 0.03\n",
    "req_return = 0.1\n",
    "\n",
    "stock_price = (security_Value * (1+growth_rate)) / (req_return - growth_rate)\n",
    "print (stock_price)"
   ]
  },
  {
   "cell_type": "code",
   "execution_count": 24,
   "metadata": {},
   "outputs": [
    {
     "name": "stdout",
     "output_type": "stream",
     "text": [
      "20.0\n"
     ]
    }
   ],
   "source": [
    "#pe ratio formula for reference\n",
    "# you can do pe_ratio * earnings_per_share = stock price\n",
    "earnings_per_share = 2.5\n",
    "market_price = 50\n",
    "\n",
    "pe_ratio = market_price/earnings_per_share\n",
    "print(pe_ratio)"
   ]
  },
  {
   "cell_type": "code",
   "execution_count": 22,
   "metadata": {},
   "outputs": [
    {
     "name": "stdout",
     "output_type": "stream",
     "text": [
      "14.105263157894736\n"
     ]
    }
   ],
   "source": [
    "#pe ratio\n",
    "stock_price = 67\n",
    "#might be in million or billions be careful\n",
    "earnings = 19\n",
    "shares_outstanding = 4\n",
    "\n",
    "pe_ratio = (stock_price*shares_outstanding)/earnings\n",
    "print(pe_ratio)"
   ]
  },
  {
   "cell_type": "code",
   "execution_count": 24,
   "metadata": {},
   "outputs": [
    {
     "name": "stdout",
     "output_type": "stream",
     "text": [
      "67.0\n"
     ]
    }
   ],
   "source": [
    "earnings = 20\n",
    "shares_outstanding = 1\n",
    "pe_ratio = 200\n",
    "stock_price = (pe_ratio*earnings)/shares_outstanding\n",
    "print(stock_price)"
   ]
  },
  {
   "cell_type": "code",
   "execution_count": 7,
   "metadata": {},
   "outputs": [
    {
     "name": "stdout",
     "output_type": "stream",
     "text": [
      "Level 1 : 51\n",
      "Level 2 : 26\n",
      "Level 3 : 13\n",
      "Level 4 : 7\n",
      "Level 5 : 4\n",
      "Level 6 : 2\n",
      "Level 8 : 1\n",
      "Total summed up from all levels is 104\n"
     ]
    }
   ],
   "source": [
    "#merkle root hash count\n",
    "trans_count = 51\n",
    "total = 0\n",
    "count = 1\n",
    "while(trans_count != 1):\n",
    "    total+=trans_count\n",
    "    print(\"Level \"+ str(count)+ \" : \" + str(trans_count))\n",
    "    trans_count = math.ceil(trans_count/2)\n",
    "    count+=1\n",
    "    \n",
    "print(\"Level \"+ str(count + 1)+ \" : \" + str(trans_count))\n",
    "print(\"Total summed up from all levels is \" + str(total + 1))"
   ]
  },
  {
   "cell_type": "code",
   "execution_count": 22,
   "metadata": {},
   "outputs": [
    {
     "name": "stdout",
     "output_type": "stream",
     "text": [
      "04182812e90196e7e815b201b21c01808b6c50a679744df1ef689f26daba202d\n"
     ]
    }
   ],
   "source": [
    "# Transaction 1 “Bob paid Mary HK$500”\n",
    "# Transaction 2 “Mary paid Jimmy HK$100”\n",
    "# Transaction 3 “Jimmy paid Tom HK$1000”\n",
    "# Transaction 4 “Tom paid Jimmy HK$300”\n",
    "# Transaction 5 “Jimmy paid Mary HK$50”\n",
    "# merkle tree approach implementation question\n",
    "\n",
    "import hashlib\n",
    "\n",
    "def sha256(message):\n",
    "    encoded_message = message.encode('ascii')\n",
    "    hashed_output = hashlib.sha256(encoded_message)\n",
    "    return hashed_output.hexdigest()\n",
    "\n",
    "# write out the transactions\n",
    "H1 = sha256(\"Bob paid Mary HK$500\")\n",
    "H2 = sha256(\"Mary paid Jimmy HK$100\")\n",
    "H3 = sha256(\"Jimmy paid Tom HK$1000\")\n",
    "H4 = sha256(\"Tom paid Jimmy HK$300\")\n",
    "H5 = sha256(\"Jimmy paid Mary HK$50\")\n",
    "\n",
    "# implement the tree\n",
    "H12 = sha256(H1+H2)\n",
    "H34 = sha256(H3+H4)\n",
    "H55 = sha256(H5+H5)\n",
    "\n",
    "H1234 = sha256(H12+H34)\n",
    "H5555 = sha256(H5+H5)\n",
    "H12345555 = sha256(H1234+H5555)\n",
    "\n",
    "#count the total of hashing done, writing it = 5, implementing it = 6, so total is 11\n",
    "#then print out the root\n",
    "print (H12345555)"
   ]
  }
 ],
 "metadata": {
  "interpreter": {
   "hash": "152d78e7d74cbe6ec21e69e69591428e0f36b034231731613ece5e333aead06d"
  },
  "kernelspec": {
   "display_name": "Python 3.9.10 ('ee4017')",
   "language": "python",
   "name": "python3"
  },
  "language_info": {
   "codemirror_mode": {
    "name": "ipython",
    "version": 3
   },
   "file_extension": ".py",
   "mimetype": "text/x-python",
   "name": "python",
   "nbconvert_exporter": "python",
   "pygments_lexer": "ipython3",
   "version": "3.10.4"
  },
  "orig_nbformat": 4
 },
 "nbformat": 4,
 "nbformat_minor": 2
}
