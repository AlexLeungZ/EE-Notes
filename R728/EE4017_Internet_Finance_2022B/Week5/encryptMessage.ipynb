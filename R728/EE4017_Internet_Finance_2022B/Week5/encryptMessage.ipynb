{
 "cells": [
  {
   "cell_type": "code",
   "execution_count": 24,
   "metadata": {},
   "outputs": [],
   "source": [
    "#55724681 Ryan Loe Suwandi\n",
    "from Crypto.PublicKey import RSA\n",
    "from Crypto.Random import get_random_bytes\n",
    "from Crypto.Cipher import AES, PKCS1_OAEP"
   ]
  },
  {
   "cell_type": "code",
   "execution_count": 25,
   "metadata": {},
   "outputs": [],
   "source": [
    "data = \"I met aliens in UFO. Here is the map.\".encode(\"utf-8\")\n",
    "file_out = open(\"encrypted_data.bin\",\"wb\")\n",
    "\n",
    "recipient_key = RSA.import_key(open(\"receiver2.pem\").read())\n",
    "session_key = get_random_bytes(16)\n",
    "\n",
    "cipher_rsa = PKCS1_OAEP.new(recipient_key)\n",
    "enc_session_key = cipher_rsa.encrypt(session_key)\n",
    "\n",
    "cipher_aes = AES.new(session_key, AES.MODE_EAX)\n",
    "ciphertext, tag = cipher_aes.encrypt_and_digest(data)\n",
    "[file_out.write(x) for x in (enc_session_key, cipher_aes.nonce, tag, ciphertext)]\n",
    "file_out.close()"
   ]
  }
 ],
 "metadata": {
  "interpreter": {
   "hash": "2be5faf79681da6f2a61fdfdd5405d65d042280f7fba6178067603e3a2925119"
  },
  "kernelspec": {
   "display_name": "Python 3.10.1 64-bit",
   "language": "python",
   "name": "python3"
  },
  "language_info": {
   "codemirror_mode": {
    "name": "ipython",
    "version": 3
   },
   "file_extension": ".py",
   "mimetype": "text/x-python",
   "name": "python",
   "nbconvert_exporter": "python",
   "pygments_lexer": "ipython3",
   "version": "3.10.1"
  },
  "orig_nbformat": 4
 },
 "nbformat": 4,
 "nbformat_minor": 2
}
