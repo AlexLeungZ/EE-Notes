{
 "cells": [
  {
   "cell_type": "code",
   "execution_count": 59,
   "metadata": {},
   "outputs": [],
   "source": [
    "import Crypto \n",
    "import Crypto.Random\n",
    "from Crypto.PublicKey import RSA\n",
    "from Crypto.Signature import PKCS1_v1_5 \n",
    "from Crypto.Hash import SHA256\n",
    "import binascii\n",
    "import json\n",
    "from datetime import datetime"
   ]
  },
  {
   "cell_type": "code",
   "execution_count": null,
   "metadata": {},
   "outputs": [],
   "source": [
    "class Transaction:\n",
    "    def __init__(self, sender, recipient, value):\n",
    "        self.sender = sender\n",
    "        self.recipient = recipient\n",
    "        self.value = value\n",
    "    \n",
    "    def to_dict(self):\n",
    "        return ({'sender': self.sender, 'recipient': self.recipient, 'value': self.value})\n",
    "    \n",
    "    def verify_transaction_signature(self):\n",
    "        if hasattr(self,'signature'):\n",
    "            public_key = RSA.importKey(binascii.unhexlify(self.sender))\n",
    "            verifier = PKCS1_v1_5.new(public_key)\n",
    "            h = SHA256.new(str(self.to_dict()).ecode('utf-8'))\n",
    "            return verifier.verify(h,binascii.unhexlify(self.signature))\n",
    "        else:\n",
    "            return False\n",
    "    \n",
    "    def to_json(self):\n",
    "        return json.dumps(self._dict_,sort_keys = False)"
   ]
  },
  {
   "cell_type": "code",
   "execution_count": 60,
   "metadata": {},
   "outputs": [],
   "source": [
    "class Wallet:\n",
    "    def __init__(self):\n",
    "        random = Crypto.Random.new().read\n",
    "        self._private_key = RSA.generate(1024,random)\n",
    "        self._public_key = self._private_key.publickey()\n",
    "        \n",
    "    def sign_transaction(self,transaction: Transaction):\n",
    "        signer = PKCS1_v1_5.new(self._private_key)\n",
    "        h = SHA256.new(str(transaction.to_dict()).encode('utf-8'))\n",
    "        return binascii.hexlify(signer.sign(h).decode('ascii'))\n",
    "    \n",
    "    @property\n",
    "    def identity(self):\n",
    "        pubkey = binascii.hexlify(self._public_key.exportKey(format=\"DER\"))\n",
    "        return pubkey.decode('ascii')\n",
    "    @property\n",
    "    def private(self):\n",
    "        privkey = binascii.hexlify(self._private_key.exportKey(format=\"DER\"))\n",
    "        return privkey.decode('ascii')"
   ]
  },
  {
   "cell_type": "code",
   "execution_count": 61,
   "metadata": {},
   "outputs": [
    {
     "name": "stdout",
     "output_type": "stream",
     "text": [
      "Pubkey: 30819f300d06092a864886f70d010101050003818d0030818902818100e3506f7792e30ddeebc805cdd98714a4dc9034c029b06859cb16405e31feed894ee37ad590fae952bcf7df903f222b2290485ce210c5180989fbd1ba88fce0301aa31dca496b2aeb540cda1ff8b2cae7f946dad82d26156b7dc3941e333cd08162286aeee6d4c7e85df45408c54e085c09c124a596c8ec02b1b0864672dcce0d0203010001\n",
      "Key Length: 324\n"
     ]
    }
   ],
   "source": [
    "Bob = Wallet()\n",
    "Jimmy = Wallet()\n",
    "Mary = Wallet()\n",
    "Tom = Wallet()\n",
    "\n",
    "t1 = Transaction(Bob.identity, Mary.identity, 550)\n",
    "signature = Bob.sign_transaction(t1)\n",
    "t1.add_signature(signature), t1.verify_transaction_signature()\n",
    "\n",
    "t2 = Transaction(Mary.identity, Jimmy.identity, 100)\n",
    "signature = Mary.sign_transaction(t2)\n",
    "t2.add_signature(signature), t2.verify_transaction_signature()\n",
    "\n",
    "t3 = Transaction(Jimmy.identity, Tom.identity, 1000)\n",
    "signature = Jimmy.sign_transaction(t3)\n",
    "t3.add_signature(signature), t3.verify_transaction_signature()\n",
    "\n",
    "t4 = Transaction(Tom.identity, Jimmy.identity, 300)\n",
    "signature = Tom.sign_transaction(t4)\n",
    "t4.add_signature(signature), t4.verify_transaction_signature()\n",
    "\n",
    "t5 = Transaction(Jimmy.identity, Mary.identity, 50)\n",
    "signature = Jimmy.sign_transaction(t5)\n",
    "t5.add_signature(signature), t5.verify_transaction_signature()"
   ]
  },
  {
   "cell_type": "code",
   "execution_count": 63,
   "metadata": {},
   "outputs": [
    {
     "name": "stdout",
     "output_type": "stream",
     "text": [
      "SuwandiRL PrivateKey: 3082025d02010002818100b66a147c641358599247bbd0e47ab45637ac7dcef2389b01c1d25540921dc125bb2aaec8ef4d4c2a44ceea10c85fd93755127afe8b16b525eb144c5741fd31036887125d706eed73997a0f209ba25b30b10e63225ccf5cb8bad3da8cc591b688dee58afbf22b2c7c59d1869963c8a711b96f8f03c835447a607ad51feac9f05302030100010281800120af5ad40f758a33b9473b9d13844909dadef804ace7f0783fc9c53d69637a534a13d26e0a13158c9468935cd4b446491e18916e98855569252833b0e08537720294d467ac4aebd99ada68d55b54b624fb8e01667212af42cb952ca640b11439dfae4f27b9a0129b4d3989ffff1ff4ebc8fa912379cfd9f139ec4fb8826c41024100bbd9c73e99152de50a4ef153e792c00e8c4f7305f6f25ae9e98d84afd9fa7c997c19396871bbfe92af86cac6aca883980cfe9ae55842d6e548b3b8a054210693024100f8976a5079b1ba4b8b82e383fdd2a40b321ce518a5b6bb0a8e7b9517c9e410e91c9549e36824d7f549d444268d41767a9e8a49b3bda29b09b8a154b01069c7410241009c05251738cdfe705d3f73f0dc45667eaecace1e061d04a582f5a75ee70cc4b036023d4c222aa225f2e36147e1df946c955e62085a662956062c3f0bead403410241008b29b88a7495da0490852578ae8f4ce637979568c6dc14b9442a4abc9678e63e9991b95b64e1bb43c5a0dec5f62dbf75c56b04f76a21ad4933e29cd6335a040102406ada4b3fbe882b5d89f8a7839ad89dcbb4fa0fb61cbd1678f078b6cefb3809719685985c940fc02f4909c795331b6a7653668c69871b10e3a766e27d27141770\n",
      "Key Length: 1218\n",
      "The above program is generated by Suwandi Ryan Loe (student id: 55724681) on 2022-02-28 17:10:51.856204\n"
     ]
    }
   ],
   "source": [
    "print('SuwandiRL PrivateKey:',SuwandiRL.private)\n",
    "print('Key Length:', SuwandiRL.private.__len__())\n",
    "print(\"The above program is generated by Suwandi Ryan Loe (student id: 55724681) on\", datetime.now())"
   ]
  }
 ],
 "metadata": {
  "interpreter": {
   "hash": "2be5faf79681da6f2a61fdfdd5405d65d042280f7fba6178067603e3a2925119"
  },
  "kernelspec": {
   "display_name": "Python 3.10.1 64-bit",
   "language": "python",
   "name": "python3"
  },
  "language_info": {
   "codemirror_mode": {
    "name": "ipython",
    "version": 3
   },
   "file_extension": ".py",
   "mimetype": "text/x-python",
   "name": "python",
   "nbconvert_exporter": "python",
   "pygments_lexer": "ipython3",
   "version": "3.9.10"
  },
  "orig_nbformat": 4
 },
 "nbformat": 4,
 "nbformat_minor": 2
}
