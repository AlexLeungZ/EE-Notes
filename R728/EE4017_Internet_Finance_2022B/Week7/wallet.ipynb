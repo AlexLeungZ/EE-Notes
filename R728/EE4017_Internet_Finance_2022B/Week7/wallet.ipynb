{
 "cells": [
  {
   "cell_type": "code",
   "execution_count": 3,
   "metadata": {},
   "outputs": [],
   "source": [
    "import Crypto \n",
    "import Crypto.Random\n",
    "from Crypto.PublicKey import RSA\n",
    "from Crypto.Signature import PKCS1_v1_5 \n",
    "from Crypto.Hash import SHA256\n",
    "import binascii\n",
    "import json\n",
    "from datetime import datetime\n",
    "import hashlib\n",
    "import sys"
   ]
  },
  {
   "cell_type": "code",
   "execution_count": 4,
   "metadata": {},
   "outputs": [],
   "source": [
    "class Transaction:\n",
    "    def __init__(self, sender, recipient, value):\n",
    "        self.sender = sender\n",
    "        self.recipient = recipient\n",
    "        self.value = value\n",
    "        self.time = datetime.datetime.now()\n",
    "    \n",
    "    def to_dict(self):\n",
    "        return ({'sender': self.sender, 'recipient': self.recipient, 'value': self.value})\n",
    "    \n",
    "    def add_signature(self, signature_):\n",
    "        self.signature = signature_\n",
    "    \n",
    "    def verify_transaction_signature(self):\n",
    "        if hasattr(self,'signature'):\n",
    "            public_key = RSA.importKey(binascii.unhexlify(self.sender))\n",
    "            verifier = PKCS1_v1_5.new(public_key)\n",
    "            h = SHA256.new(str(self.to_dict()).encode('utf-8'))\n",
    "            return verifier.verify(h,binascii.unhexlify(self.signature))\n",
    "        else:\n",
    "            return False\n",
    "    \n",
    "    def to_json(self):\n",
    "        return json.dumps(self._dict_,sort_keys = False)"
   ]
  },
  {
   "cell_type": "code",
   "execution_count": 5,
   "metadata": {},
   "outputs": [],
   "source": [
    "class Wallet:\n",
    "    def __init__(self):\n",
    "        random = Crypto.Random.new().read\n",
    "        self._private_key = RSA.generate(1024,random)\n",
    "        self._public_key = self._private_key.publickey()\n",
    "        \n",
    "    def sign_transaction(self,transaction: Transaction):\n",
    "        signer = PKCS1_v1_5.new(self._private_key)\n",
    "        h = SHA256.new(str(transaction.to_dict()).encode('utf-8'))\n",
    "        return binascii.hexlify(signer.sign(h)).decode('ascii')\n",
    "    \n",
    "    @property\n",
    "    def identity(self):\n",
    "        pubkey = binascii.hexlify(self._public_key.exportKey(format=\"DER\"))\n",
    "        return pubkey.decode('ascii')\n",
    "    @property\n",
    "    def private(self):\n",
    "        privkey = binascii.hexlify(self._private_key.exportKey(format=\"DER\"))\n",
    "        return privkey.decode('ascii')"
   ]
  },
  {
   "cell_type": "code",
   "execution_count": 6,
   "metadata": {},
   "outputs": [
    {
     "ename": "AttributeError",
     "evalue": "type object 'datetime.datetime' has no attribute 'datetime'",
     "output_type": "error",
     "traceback": [
      "\u001b[1;31m---------------------------------------------------------------------------\u001b[0m",
      "\u001b[1;31mAttributeError\u001b[0m                            Traceback (most recent call last)",
      "\u001b[1;32md:\\idk\\Downloads\\uni\\Yr3_Sem_B\\EE4017_Internet_Finance\\Week7\\wallet.ipynb Cell 4'\u001b[0m in \u001b[0;36m<cell line: 4>\u001b[1;34m()\u001b[0m\n\u001b[0;32m      <a href='vscode-notebook-cell:/d%3A/idk/Downloads/uni/Yr3_Sem_B/EE4017_Internet_Finance/Week7/wallet.ipynb#ch0000004?line=0'>1</a>\u001b[0m Jimmy \u001b[39m=\u001b[39m Wallet()\n\u001b[0;32m      <a href='vscode-notebook-cell:/d%3A/idk/Downloads/uni/Yr3_Sem_B/EE4017_Internet_Finance/Week7/wallet.ipynb#ch0000004?line=1'>2</a>\u001b[0m Grace \u001b[39m=\u001b[39m Wallet()\n\u001b[1;32m----> <a href='vscode-notebook-cell:/d%3A/idk/Downloads/uni/Yr3_Sem_B/EE4017_Internet_Finance/Week7/wallet.ipynb#ch0000004?line=3'>4</a>\u001b[0m t \u001b[39m=\u001b[39m Transaction(Grace\u001b[39m.\u001b[39;49midentity, Jimmy\u001b[39m.\u001b[39;49midentity, \u001b[39m1000\u001b[39;49m)\n\u001b[0;32m      <a href='vscode-notebook-cell:/d%3A/idk/Downloads/uni/Yr3_Sem_B/EE4017_Internet_Finance/Week7/wallet.ipynb#ch0000004?line=4'>5</a>\u001b[0m \u001b[39mprint\u001b[39m(\u001b[39m'\u001b[39m\u001b[39mVerifying without a signature result:\u001b[39m\u001b[39m'\u001b[39m,t\u001b[39m.\u001b[39mverify_transaction_signature())\n\u001b[0;32m      <a href='vscode-notebook-cell:/d%3A/idk/Downloads/uni/Yr3_Sem_B/EE4017_Internet_Finance/Week7/wallet.ipynb#ch0000004?line=6'>7</a>\u001b[0m \u001b[39m#with Jimmy's signature, the following verification will give out False\u001b[39;00m\n",
      "\u001b[1;32md:\\idk\\Downloads\\uni\\Yr3_Sem_B\\EE4017_Internet_Finance\\Week7\\wallet.ipynb Cell 2'\u001b[0m in \u001b[0;36mTransaction.__init__\u001b[1;34m(self, sender, recipient, value)\u001b[0m\n\u001b[0;32m      <a href='vscode-notebook-cell:/d%3A/idk/Downloads/uni/Yr3_Sem_B/EE4017_Internet_Finance/Week7/wallet.ipynb#ch0000002?line=3'>4</a>\u001b[0m \u001b[39mself\u001b[39m\u001b[39m.\u001b[39mrecipient \u001b[39m=\u001b[39m recipient\n\u001b[0;32m      <a href='vscode-notebook-cell:/d%3A/idk/Downloads/uni/Yr3_Sem_B/EE4017_Internet_Finance/Week7/wallet.ipynb#ch0000002?line=4'>5</a>\u001b[0m \u001b[39mself\u001b[39m\u001b[39m.\u001b[39mvalue \u001b[39m=\u001b[39m value\n\u001b[1;32m----> <a href='vscode-notebook-cell:/d%3A/idk/Downloads/uni/Yr3_Sem_B/EE4017_Internet_Finance/Week7/wallet.ipynb#ch0000002?line=5'>6</a>\u001b[0m \u001b[39mself\u001b[39m\u001b[39m.\u001b[39mtime \u001b[39m=\u001b[39m datetime\u001b[39m.\u001b[39;49mdatetime\u001b[39m.\u001b[39mnow()\n",
      "\u001b[1;31mAttributeError\u001b[0m: type object 'datetime.datetime' has no attribute 'datetime'"
     ]
    }
   ],
   "source": [
    "Jimmy = Wallet()\n",
    "Grace = Wallet()\n",
    "\n",
    "t = Transaction(Grace.identity, Jimmy.identity, 1000)\n",
    "print('Verifying without a signature result:',t.verify_transaction_signature())\n",
    "\n",
    "#with Jimmy's signature, the following verification will give out False\n",
    "signature = Jimmy.sign_transaction(t)\n",
    "t.add_signature(signature);\n",
    "print('Verifying using Jimmy\\'s signature result:',t.verify_transaction_signature())\n",
    "\n",
    "#with Grace's signature, the following verification will give out True\n",
    "signature = Grace.sign_transaction(t)\n",
    "t.add_signature(signature);\n",
    "print('Verifying using Grace\\'s signature result:',t.verify_transaction_signature())\n",
    "\n",
    "print('The confirmed transaction signature is:')\n",
    "print(signature)\n",
    "print('The length of the signature is :', len(signature))\n",
    "print(\"The above program is generated by Suwandi Ryan Loe (student id: 55724681) on\", datetime.now())"
   ]
  }
 ],
 "metadata": {
  "interpreter": {
   "hash": "2be5faf79681da6f2a61fdfdd5405d65d042280f7fba6178067603e3a2925119"
  },
  "kernelspec": {
   "display_name": "Python 3.10.1 64-bit",
   "language": "python",
   "name": "python3"
  },
  "language_info": {
   "codemirror_mode": {
    "name": "ipython",
    "version": 3
   },
   "file_extension": ".py",
   "mimetype": "text/x-python",
   "name": "python",
   "nbconvert_exporter": "python",
   "pygments_lexer": "ipython3",
   "version": "3.10.4"
  },
  "orig_nbformat": 4
 },
 "nbformat": 4,
 "nbformat_minor": 2
}
