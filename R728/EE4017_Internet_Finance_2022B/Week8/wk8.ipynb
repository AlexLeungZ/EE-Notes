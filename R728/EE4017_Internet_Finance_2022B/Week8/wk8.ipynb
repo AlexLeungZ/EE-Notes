{
 "cells": [
  {
   "cell_type": "code",
   "execution_count": 4,
   "metadata": {},
   "outputs": [],
   "source": [
    "#Lam Ho Wang SID: 55678242\n",
    "import Crypto \n",
    "import Crypto.Random\n",
    "from Crypto.PublicKey import RSA\n",
    "from Crypto.Signature import PKCS1_v1_5 \n",
    "from Crypto.Hash import SHA256\n",
    "import binascii\n",
    "import json\n",
    "import datetime"
   ]
  },
  {
   "cell_type": "code",
   "execution_count": 10,
   "metadata": {},
   "outputs": [],
   "source": [
    "class Transaction:\n",
    "    def __init__(self, sender,recipient,value):\n",
    "        self.sender = sender\n",
    "        self.recipient = recipient\n",
    "        self.value = value\n",
    "    def to_dict(self):\n",
    "        return ({'sender': self.sender , 'recipient': self.recipient, 'value': self.value})\n",
    "\n",
    "    def add_signature(self, signature_):\n",
    "        self.signature = signature_\n",
    "    \n",
    "    def verify_transaction_signature(self):\n",
    "        if hasattr(self, 'signature'):\n",
    "            public_key = RSA.importKey(binascii.unhexlify(self.sender))\n",
    "            verifier = PKCS1_v1_5.new(public_key)\n",
    "            h = SHA256.new(str(self.to_dict()).encode('utf8'))\n",
    "            return verifier.verify(h, binascii.unhexlify(self.signature))\n",
    "        else:\n",
    "            return False\n",
    "\n",
    "    def to_json(self):\n",
    "        return json.dumps( self.__dict__, sort_keys = False)\n"
   ]
  },
  {
   "cell_type": "code",
   "execution_count": 11,
   "metadata": {},
   "outputs": [],
   "source": [
    "class Wallet:\n",
    "    def __init__(self):\n",
    "        random = Crypto.Random.new().read\n",
    "        self._private_key = RSA.generate(1024,random)\n",
    "        self._public_key = self._private_key.publickey()\n",
    "    \n",
    "    def sign_transaction(self, transaction: Transaction) :\n",
    "        signer = PKCS1_v1_5.new(self._private_key)\n",
    "        h = SHA256.new(str(transaction.to_dict()).encode('utf8'))\n",
    "        return binascii.hexlify(signer.sign(h)).decode('ascii')\n",
    "\n",
    "\n",
    "    @property\n",
    "    def identity(self):\n",
    "        pubkey = binascii.hexlify( self._public_key.exportKey(format='DER'))\n",
    "        return pubkey.decode('ascii')\n",
    "\n",
    "    @property\n",
    "    def private(self):\n",
    "        private_key = binascii.hexlify( self._private_key.exportKey(format='DER'))\n",
    "        return private_key.decode('ascii')"
   ]
  },
  {
   "cell_type": "code",
   "execution_count": 25,
   "metadata": {},
   "outputs": [],
   "source": [
    "class Block :\n",
    "    def __init__(self, index, transactions, timestamp, previous_hash):\n",
    "        self.index = index\n",
    "        self.transactions = transactions\n",
    "        self.timestamp = timestamp\n",
    "        self.previous_hash = previous_hash\n",
    "        self.hash = None\n",
    "        self.nonce = 0\n",
    "    def to_dict(self):\n",
    "        return ({\n",
    "            'index' : self.index,\n",
    "            'transactions' : self.transactions,\n",
    "            'timestamp' : self.timestamp,\n",
    "            'previous_hash' : self.previous_hash,\n",
    "            'nonce' : self.nonce}\n",
    "        )\n",
    "    def to_json(self):\n",
    "        return json.dumps (self.__dict__)\n",
    "    def compute_hash( self):\n",
    "        return SHA256.new(str(self.to_dict()).encode()).hexdigest()"
   ]
  },
  {
   "cell_type": "code",
   "execution_count": 26,
   "metadata": {},
   "outputs": [],
   "source": [
    "class Blockchain:\n",
    "    difficulty = 2\n",
    "\n",
    "    def __init__( self):\n",
    "        self.unconfirmed_transactions = []\n",
    "        self.chain = []\n",
    "        self.create_genesis_block()\n",
    "\n",
    "    def create_genesis_block( self):\n",
    "        genesis_block = Block(0, [], datetime.datetime.now()\n",
    "                                .strftime(\"%m/%d/%Y, %H:%M:%S\"),\"0\")\n",
    "        genesis_block.hash = genesis_block.compute_hash()\n",
    "        self.chain.append(genesis_block.to_json())\n",
    "    def add_new_transaction(self, transaction: Transaction):\n",
    "        if transaction.verify_transaction_signature():\n",
    "            self.unconfirmed_transactions.append(transaction.to_json())\n",
    "            return True\n",
    "        else:\n",
    "            return False\n",
    "\n",
    "    def add_block( self, block, proof):\n",
    "\n",
    "        previous_hash = self.last_block[ 'hash' ]\n",
    "\n",
    "        if previous_hash != block.previous_hash:\n",
    "            return False\n",
    "        \n",
    "        if not self.is_valid_proof(block, proof):\n",
    "            return False\n",
    "        \n",
    "        block.hash = proof\n",
    "        self.chain.append(block.to_json())\n",
    "        return True\n",
    "    def is_valid_proof(self, block, block_hash):\n",
    "\n",
    "        return (block_hash.startswith( '0' * Blockchain.difficulty) and\n",
    "                block_hash == block.compute_hash())\n",
    "    def proof_of_work(self, block ):\n",
    "        block.nonce = 0\n",
    "        computed_hash = block.compute_hash()\n",
    "        while not computed_hash.startswith( '0' * Blockchain.difficulty):\n",
    "            block.nonce += 1\n",
    "            computed_hash = block.compute_hash()\n",
    "        return computed_hash\n",
    "    def mine(self, mywallet) :\n",
    "        block_reward = Transaction( \"Block_Reward\" ,\n",
    "                                    mywallet.identity, \"5.0\" ).to_json()\n",
    "        self.unconfirmed_transactions.insert(0, block_reward)\n",
    "        if not self.unconfirmed_transactions:\n",
    "            return False\n",
    "\n",
    "        new_block = Block(index=self.last_block['index'] + 1,\n",
    "                            transactions=self.unconfirmed_transactions,\n",
    "                            timestamp=datetime.datetime.now()\n",
    "                            .strftime(\"%m/%d/%Y, %H:%M:%S\"),\n",
    "                            previous_hash=self.last_block['hash'])\n",
    "\n",
    "        proof = self.proof_of_work(new_block)\n",
    "        if self.add_block(new_block, proof):\n",
    "            self.unconfirmed_transactions = []\n",
    "            return new_block\n",
    "        else:\n",
    "            return False\n",
    "    @property\n",
    "    def last_block(self):\n",
    "        return json.loads(self.chain[-1])"
   ]
  },
  {
   "cell_type": "code",
   "execution_count": 27,
   "metadata": {},
   "outputs": [
    {
     "name": "stdout",
     "output_type": "stream",
     "text": [
      "{'index': 1, 'transactions': ['{\"sender\": \"Block_Reward\", \"recipient\": \"30819f300d06092a864886f70d010101050003818d0030818902818100d6990148a2eb102986af0ed2795fff0c900861555550de0e25adaea2613b086926c2d4bfc50b35afb66820f37fcc38a50aebf38973285c478af621749b37f1582c78bf91951a28fa599a5c741a8daaf5d0dd9107062466def4250838572b575c23e01d5591a1f869cce501d73885172bb9335b093fdec342796d889f7e2943d90203010001\", \"value\": \"5.0\"}', '{\"sender\": \"30819f300d06092a864886f70d010101050003818d0030818902818100d6990148a2eb102986af0ed2795fff0c900861555550de0e25adaea2613b086926c2d4bfc50b35afb66820f37fcc38a50aebf38973285c478af621749b37f1582c78bf91951a28fa599a5c741a8daaf5d0dd9107062466def4250838572b575c23e01d5591a1f869cce501d73885172bb9335b093fdec342796d889f7e2943d90203010001\", \"recipient\": \"30819f300d06092a864886f70d010101050003818d0030818902818100bdd4942d832e3d6f96634d2d040aa846b05a176ea9d15e773a52f8fe039c0aa0c981b4575349f81f681a486e990c7080617703190b254132efc1d2e7e5d060ab1da4c8498300a2a75e0eedcf91319bd882146054b320d023f6cd0bd0d805ae63665c1a53358f16c71a495f2c8b055413563b3c91b015b1d28be12b21be85a6490203010001\", \"value\": 250, \"signature\": \"787415fbfc068a81444dd616281216c852a1161b05ba939749891d97562e27e7acddbe72470d5be35c6cc5b7065b4a1448e0677942ad450053111275bd3827e0184974d514ca6332832418a36f62dd1385b201a89a6f8024df777f4d4ce6827bf5594be79d8ab9f1b308712eb3a9c1e8c82174fd1d8042529b01d0add4b9ff3d\"}'], 'timestamp': '03/07/2022, 17:15:19', 'previous_hash': '9ef1532b7904de52a32ed90207e53302aa6614f3b06d963f398d058a832885ed', 'hash': '00b541d24f9b32506b6b73eabb63d8b6b1b967c5b8731b77469776df26e28484', 'nonce': 180}\n",
      "{'index': 2, 'transactions': ['{\"sender\": \"Block_Reward\", \"recipient\": \"30819f300d06092a864886f70d010101050003818d0030818902818100d6990148a2eb102986af0ed2795fff0c900861555550de0e25adaea2613b086926c2d4bfc50b35afb66820f37fcc38a50aebf38973285c478af621749b37f1582c78bf91951a28fa599a5c741a8daaf5d0dd9107062466def4250838572b575c23e01d5591a1f869cce501d73885172bb9335b093fdec342796d889f7e2943d90203010001\", \"value\": \"5.0\"}'], 'timestamp': '03/07/2022, 17:15:19', 'previous_hash': '00b541d24f9b32506b6b73eabb63d8b6b1b967c5b8731b77469776df26e28484', 'hash': '00a7c6c8c072f1293d1723d67baa205545c6111d2e7cb214636699e57b5a2ca9', 'nonce': 44}\n"
     ]
    }
   ],
   "source": [
    "blockchain = Blockchain()\n",
    "Peter = Wallet()\n",
    "Mary = Wallet()\n",
    "\n",
    "t = Transaction(Peter.identity,Mary.identity,250)\n",
    "t.add_signature(Peter.sign_transaction(t))\n",
    "blockchain.add_new_transaction(t)\n",
    "\n",
    "blockchain.mine(Peter)\n",
    "print(blockchain.last_block)\n",
    "blockchain.mine(Peter)\n",
    "print(blockchain.last_block)\n"
   ]
  },
  {
   "cell_type": "code",
   "execution_count": null,
   "metadata": {},
   "outputs": [],
   "source": []
  },
  {
   "cell_type": "code",
   "execution_count": null,
   "metadata": {},
   "outputs": [],
   "source": []
  },
  {
   "cell_type": "code",
   "execution_count": null,
   "metadata": {},
   "outputs": [],
   "source": []
  }
 ],
 "metadata": {
  "interpreter": {
   "hash": "7b4b4feff2f24a0f0a34464dbe537a36fda679851528fb8735cb41fa49dffb2d"
  },
  "kernelspec": {
   "display_name": "Python 3.8.8 64-bit ('base': conda)",
   "language": "python",
   "name": "python3"
  },
  "language_info": {
   "codemirror_mode": {
    "name": "ipython",
    "version": 3
   },
   "file_extension": ".py",
   "mimetype": "text/x-python",
   "name": "python",
   "nbconvert_exporter": "python",
   "pygments_lexer": "ipython3",
   "version": "3.8.8"
  },
  "orig_nbformat": 4
 },
 "nbformat": 4,
 "nbformat_minor": 2
}
