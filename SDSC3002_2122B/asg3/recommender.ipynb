{
 "cells": [
  {
   "cell_type": "markdown",
   "metadata": {},
   "source": [
    "## Recommender system\n",
    "\n",
    "### Env Setup (Using conda)\n",
    "```bash\n",
    "conda create -n recsys \n",
    "conda install scikit-surprise pandas pickle5\n",
    "```\n",
    "\n",
    "### Env config\n",
    "OS: Window 10 64bit\n",
    "\n",
    "Python: 3.9.12"
   ]
  },
  {
   "cell_type": "markdown",
   "metadata": {},
   "source": [
    "### Import library"
   ]
  },
  {
   "cell_type": "code",
   "execution_count": null,
   "metadata": {},
   "outputs": [],
   "source": [
    "import pandas as pd\n",
    "import pickle\n",
    "from surprise import SVD\n",
    "from surprise import Reader, Dataset\n",
    "from surprise.model_selection import cross_validate"
   ]
  },
  {
   "cell_type": "markdown",
   "metadata": {},
   "source": [
    "### Import training data"
   ]
  },
  {
   "cell_type": "code",
   "execution_count": null,
   "metadata": {},
   "outputs": [],
   "source": [
    "rating = pd.read_csv(\"./training.txt\", names=[\"user\", \"item\", \"rating\"], sep=\",\", header=None)\n",
    "reader = Reader(rating_scale = (0, 5))\n",
    "training = Dataset.load_from_df(rating, reader)"
   ]
  },
  {
   "cell_type": "markdown",
   "metadata": {},
   "source": [
    "### 10-fold cross-validation"
   ]
  },
  {
   "cell_type": "code",
   "execution_count": 10,
   "metadata": {},
   "outputs": [
    {
     "name": "stdout",
     "output_type": "stream",
     "text": [
      "Evaluating RMSE of algorithm SVD on 10 split(s).\n",
      "\n",
      "                  Fold 1  Fold 2  Fold 3  Fold 4  Fold 5  Fold 6  Fold 7  Fold 8  Fold 9  Fold 10 Mean    Std     \n",
      "RMSE (testset)    0.8482  0.8494  0.8478  0.8497  0.8495  0.8488  0.8493  0.8473  0.8491  0.8498  0.8489  0.0008  \n",
      "Fit time          190.27  186.92  186.08  190.58  189.19  187.12  188.84  190.21  188.64  184.29  188.22  1.95    \n",
      "Test time         33.54   33.26   33.59   33.11   33.23   32.44   32.32   31.66   31.65   30.97   32.58   0.87    \n"
     ]
    },
    {
     "data": {
      "text/plain": [
       "{'test_rmse': array([0.84823811, 0.84943687, 0.84783578, 0.84968161, 0.84951116,\n",
       "        0.84877141, 0.84926796, 0.84732361, 0.84908188, 0.84975719]),\n",
       " 'fit_time': (190.2735013961792,\n",
       "  186.9219970703125,\n",
       "  186.08299946784973,\n",
       "  190.5819993019104,\n",
       "  189.19499969482422,\n",
       "  187.11599445343018,\n",
       "  188.8420009613037,\n",
       "  190.21349906921387,\n",
       "  188.64299893379211,\n",
       "  184.29099798202515),\n",
       " 'test_time': (33.54449820518494,\n",
       "  33.25850057601929,\n",
       "  33.59200072288513,\n",
       "  33.11400079727173,\n",
       "  33.23400139808655,\n",
       "  32.43899965286255,\n",
       "  32.32249903678894,\n",
       "  31.660500526428223,\n",
       "  31.649001836776733,\n",
       "  30.96950054168701)}"
      ]
     },
     "execution_count": 10,
     "metadata": {},
     "output_type": "execute_result"
    }
   ],
   "source": [
    "algo = SVD(n_epochs = 5, n_factors = 10, verbose = True)\n",
    "cross_validate(algo, training, measures=['RMSE'], cv=10, n_jobs = -1, verbose=True)"
   ]
  },
  {
   "cell_type": "markdown",
   "metadata": {},
   "source": [
    "### Data training"
   ]
  },
  {
   "cell_type": "code",
   "execution_count": 17,
   "metadata": {},
   "outputs": [
    {
     "name": "stdout",
     "output_type": "stream",
     "text": [
      "Processing epoch 0\n",
      "Processing epoch 1\n",
      "Processing epoch 2\n",
      "Processing epoch 3\n",
      "Processing epoch 4\n"
     ]
    },
    {
     "data": {
      "text/plain": [
       "<surprise.prediction_algorithms.matrix_factorization.SVD at 0x19baea3c520>"
      ]
     },
     "execution_count": 17,
     "metadata": {},
     "output_type": "execute_result"
    }
   ],
   "source": [
    "training = training.build_full_trainset()\n",
    "algo.fit(training)"
   ]
  },
  {
   "cell_type": "markdown",
   "metadata": {},
   "source": [
    "### Save the model in local storage"
   ]
  },
  {
   "cell_type": "code",
   "execution_count": 18,
   "metadata": {},
   "outputs": [],
   "source": [
    "with open(\"model.sav\",\"wb\") as f:\n",
    "    pickle.dump(algo, f)\n",
    "with open(\"model.sav\",\"rb\") as f:\n",
    "    model = pickle.load(f)"
   ]
  },
  {
   "cell_type": "markdown",
   "metadata": {},
   "source": [
    "### Import testing data and predict the rating"
   ]
  },
  {
   "cell_type": "code",
   "execution_count": 23,
   "metadata": {},
   "outputs": [],
   "source": [
    "testing = pd.read_csv(\"./testing.txt\", names=[\"user\", \"item\", \"rating\"])\n",
    "\n",
    "predicted_ratings = []\n",
    "for row in testing.iterrows():\n",
    "    user, item = row[1][0], row[1][1]\n",
    "    predicted_ratings.append(model.predict(user, item).est)"
   ]
  },
  {
   "cell_type": "markdown",
   "metadata": {},
   "source": [
    "### Save predictions in prediction file"
   ]
  },
  {
   "cell_type": "code",
   "execution_count": 24,
   "metadata": {},
   "outputs": [],
   "source": [
    "testing[\"rating\"] = predicted_ratings\n",
    "testing.to_csv(\"./prediction.txt\", index=False, header=False)"
   ]
  }
 ],
 "metadata": {
  "interpreter": {
   "hash": "31d80d400109c40850e8605d64c7726e41e0f7be25d1ae8bf99d6e71436d9538"
  },
  "kernelspec": {
   "display_name": "Python 3.10.0 ('dlearn')",
   "language": "python",
   "name": "python3"
  },
  "language_info": {
   "codemirror_mode": {
    "name": "ipython",
    "version": 3
   },
   "file_extension": ".py",
   "mimetype": "text/x-python",
   "name": "python",
   "nbconvert_exporter": "python",
   "pygments_lexer": "ipython3",
   "version": "3.9.12"
  },
  "orig_nbformat": 4
 },
 "nbformat": 4,
 "nbformat_minor": 2
}
